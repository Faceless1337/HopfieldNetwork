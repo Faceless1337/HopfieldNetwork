{
 "cells": [
  {
   "cell_type": "code",
   "execution_count": 1,
   "id": "7c803551",
   "metadata": {
    "_cell_guid": "b1076dfc-b9ad-4769-8c92-a6c4dae69d19",
    "_uuid": "8f2839f25d086af736a60e9eeb907d3b93b6e0e5",
    "execution": {
     "iopub.execute_input": "2022-12-13T17:49:17.596333Z",
     "iopub.status.busy": "2022-12-13T17:49:17.595876Z",
     "iopub.status.idle": "2022-12-13T17:49:17.615941Z",
     "shell.execute_reply": "2022-12-13T17:49:17.614446Z"
    },
    "papermill": {
     "duration": 0.028393,
     "end_time": "2022-12-13T17:49:17.618433",
     "exception": false,
     "start_time": "2022-12-13T17:49:17.590040",
     "status": "completed"
    },
    "tags": []
   },
   "outputs": [
    {
     "name": "stdout",
     "output_type": "stream",
     "text": [
      "/kaggle/input/hopfieldtrain/train.jpg\n",
      "/kaggle/input/hopfieldtest/test.jpg\n"
     ]
    }
   ],
   "source": [
    "# This Python 3 environment comes with many helpful analytics libraries installed\n",
    "# It is defined by the kaggle/python Docker image: https://github.com/kaggle/docker-python\n",
    "# For example, here's several helpful packages to load\n",
    "\n",
    "import numpy as np # linear algebra\n",
    "import pandas as pd # data processing, CSV file I/O (e.g. pd.read_csv)\n",
    "\n",
    "# Input data files are available in the read-only \"../input/\" directory\n",
    "# For example, running this (by clicking run or pressing Shift+Enter) will list all files under the input directory\n",
    "\n",
    "import os\n",
    "for dirname, _, filenames in os.walk('/kaggle/input'):\n",
    "    for filename in filenames:\n",
    "        print(os.path.join(dirname, filename))\n",
    "\n",
    "# You can write up to 20GB to the current directory (/kaggle/working/) that gets preserved as output when you create a version using \"Save & Run All\" \n",
    "# You can also write temporary files to /kaggle/temp/, but they won't be saved outside of the current session"
   ]
  },
  {
   "cell_type": "code",
   "execution_count": 2,
   "id": "ab47950c",
   "metadata": {
    "execution": {
     "iopub.execute_input": "2022-12-13T17:49:17.626665Z",
     "iopub.status.busy": "2022-12-13T17:49:17.625846Z",
     "iopub.status.idle": "2022-12-13T17:49:17.630199Z",
     "shell.execute_reply": "2022-12-13T17:49:17.629571Z"
    },
    "papermill": {
     "duration": 0.009969,
     "end_time": "2022-12-13T17:49:17.631735",
     "exception": false,
     "start_time": "2022-12-13T17:49:17.621766",
     "status": "completed"
    },
    "tags": []
   },
   "outputs": [],
   "source": [
    "import random\n",
    "import re\n",
    "import matplotlib.pyplot as plt\n",
    "from IPython.core.interactiveshell import InteractiveShell\n",
    "from PIL import Image\n",
    "InteractiveShell.ast_node_interactivity = \"all\""
   ]
  },
  {
   "cell_type": "code",
   "execution_count": 3,
   "id": "3351250d",
   "metadata": {
    "execution": {
     "iopub.execute_input": "2022-12-13T17:49:17.639521Z",
     "iopub.status.busy": "2022-12-13T17:49:17.638910Z",
     "iopub.status.idle": "2022-12-13T17:49:17.644188Z",
     "shell.execute_reply": "2022-12-13T17:49:17.643530Z"
    },
    "papermill": {
     "duration": 0.01104,
     "end_time": "2022-12-13T17:49:17.645733",
     "exception": false,
     "start_time": "2022-12-13T17:49:17.634693",
     "status": "completed"
    },
    "tags": []
   },
   "outputs": [],
   "source": [
    "#read image and translate it to array\n",
    "def readImage(file,size, threshold= 145):\n",
    "    #file is jpg or jpeg pictures\n",
    "    #size is a 1*2 vector,eg (40,40)\n",
    "    pilIN = Image.open(file).convert(mode=\"L\")\n",
    "    pilIN= pilIN.resize(size)\n",
    "    #pilIN.thumbnail(size,Image.ANTIALIAS)\n",
    "    imgArray = np.asarray(pilIN,dtype=np.uint8)\n",
    "    x = np.zeros(imgArray.shape,dtype=np.float)\n",
    "    x[imgArray > threshold] = 1\n",
    "    x[x==0] = -1\n",
    "    return x"
   ]
  },
  {
   "cell_type": "code",
   "execution_count": 4,
   "id": "2fc9dc2e",
   "metadata": {
    "execution": {
     "iopub.execute_input": "2022-12-13T17:49:17.653642Z",
     "iopub.status.busy": "2022-12-13T17:49:17.653026Z",
     "iopub.status.idle": "2022-12-13T17:49:17.657897Z",
     "shell.execute_reply": "2022-12-13T17:49:17.657212Z"
    },
    "papermill": {
     "duration": 0.010728,
     "end_time": "2022-12-13T17:49:17.659450",
     "exception": false,
     "start_time": "2022-12-13T17:49:17.648722",
     "status": "completed"
    },
    "tags": []
   },
   "outputs": [],
   "source": [
    "def arrayToImage(data, outFile = None):\n",
    "    #data is 1 or -1 matrix\n",
    "    y = np.zeros(data.shape,dtype=np.uint8)\n",
    "    y[data==1] = 255\n",
    "    y[data==-1] = 0\n",
    "    img = Image.fromarray(y,mode=\"L\")\n",
    "    if outFile is not None:\n",
    "        img.save(outFile)\n",
    "    return img"
   ]
  },
  {
   "cell_type": "code",
   "execution_count": 5,
   "id": "1bf6bea4",
   "metadata": {
    "execution": {
     "iopub.execute_input": "2022-12-13T17:49:17.666928Z",
     "iopub.status.busy": "2022-12-13T17:49:17.666433Z",
     "iopub.status.idle": "2022-12-13T17:49:17.673945Z",
     "shell.execute_reply": "2022-12-13T17:49:17.673271Z"
    },
    "papermill": {
     "duration": 0.013168,
     "end_time": "2022-12-13T17:49:17.675518",
     "exception": false,
     "start_time": "2022-12-13T17:49:17.662350",
     "status": "completed"
    },
    "tags": []
   },
   "outputs": [],
   "source": [
    "#for convenience of calculations , we get a vector from the matrix\n",
    "def matrixToVector(x):\n",
    "    #x is a matrix\n",
    "    m = x.shape[0]*x.shape[1]\n",
    "    tmp1 = np.zeros(m)\n",
    "\n",
    "    c = 0\n",
    "    for i in range(x.shape[0]):\n",
    "        for j in range(x.shape[1]):\n",
    "            tmp1[c] = x[i,j]\n",
    "            c +=1\n",
    "    return tmp1"
   ]
  },
  {
   "cell_type": "code",
   "execution_count": 6,
   "id": "00b796c8",
   "metadata": {
    "execution": {
     "iopub.execute_input": "2022-12-13T17:49:17.683072Z",
     "iopub.status.busy": "2022-12-13T17:49:17.682549Z",
     "iopub.status.idle": "2022-12-13T17:49:17.688258Z",
     "shell.execute_reply": "2022-12-13T17:49:17.687574Z"
    },
    "papermill": {
     "duration": 0.011325,
     "end_time": "2022-12-13T17:49:17.689774",
     "exception": false,
     "start_time": "2022-12-13T17:49:17.678449",
     "status": "completed"
    },
    "tags": []
   },
   "outputs": [],
   "source": [
    "#creating weights\n",
    "def createWeights(x):\n",
    "    # x is a vector\n",
    "    if len(x.shape) != 1:\n",
    "        print (\"The input is not vector\")\n",
    "        return\n",
    "    else:\n",
    "        w = np.zeros([len(x),len(x)])\n",
    "        for i in range(len(x)):\n",
    "            for j in range(i,len(x)):\n",
    "                #print(i, \" \", j)\n",
    "                if i == j:\n",
    "                    w[i,j] = 0\n",
    "                else:\n",
    "                    w[i,j] = x[i]*x[j]\n",
    "                    w[j,i] = w[i,j]\n",
    "    #print(w)\n",
    "    return w"
   ]
  },
  {
   "cell_type": "code",
   "execution_count": 7,
   "id": "be49d470",
   "metadata": {
    "execution": {
     "iopub.execute_input": "2022-12-13T17:49:17.697442Z",
     "iopub.status.busy": "2022-12-13T17:49:17.697041Z",
     "iopub.status.idle": "2022-12-13T17:49:17.704089Z",
     "shell.execute_reply": "2022-12-13T17:49:17.702817Z"
    },
    "papermill": {
     "duration": 0.013103,
     "end_time": "2022-12-13T17:49:17.705866",
     "exception": false,
     "start_time": "2022-12-13T17:49:17.692763",
     "status": "completed"
    },
    "tags": []
   },
   "outputs": [],
   "source": [
    "#random updating of neurons\n",
    "def updateAsynch(weight,vector,theta=0.5,times=100):\n",
    "    energy_ = []\n",
    "    times_ = []\n",
    "    energy_.append(energy(weight,vector))\n",
    "    times_.append(0)\n",
    "    for i in range(times):\n",
    "        length = len(vector)\n",
    "        updateNum = random.randint(0,length-1)\n",
    "        nextTimeValue = np.dot(weight[updateNum][:],vector) - theta\n",
    "        if nextTimeValue>=0:\n",
    "            vector[updateNum] = 1\n",
    "        if nextTimeValue<0:\n",
    "            vector[updateNum] = -1\n",
    "        times_.append(i)\n",
    "        energy_.append(energy(weight,vector))\n",
    "    \n",
    "    return (vector,times_,energy_)"
   ]
  },
  {
   "cell_type": "code",
   "execution_count": 8,
   "id": "602f3232",
   "metadata": {
    "execution": {
     "iopub.execute_input": "2022-12-13T17:49:17.713033Z",
     "iopub.status.busy": "2022-12-13T17:49:17.712651Z",
     "iopub.status.idle": "2022-12-13T17:49:17.717496Z",
     "shell.execute_reply": "2022-12-13T17:49:17.716660Z"
    },
    "papermill": {
     "duration": 0.010347,
     "end_time": "2022-12-13T17:49:17.719137",
     "exception": false,
     "start_time": "2022-12-13T17:49:17.708790",
     "status": "completed"
    },
    "tags": []
   },
   "outputs": [],
   "source": [
    "#we calculate the energy of the system after each step\n",
    "def energy(weight,x,bias=0):\n",
    "#weight: m*m weight matrix\n",
    "#x: 1*m data vector\n",
    "#bias: outer field\n",
    "    energy = -x.dot(weight).dot(x.T)+sum(bias*x)\n",
    "    # E is a scalar\n",
    "    return energy"
   ]
  },
  {
   "cell_type": "code",
   "execution_count": 9,
   "id": "b2b5b70c",
   "metadata": {
    "execution": {
     "iopub.execute_input": "2022-12-13T17:49:17.726282Z",
     "iopub.status.busy": "2022-12-13T17:49:17.725966Z",
     "iopub.status.idle": "2022-12-13T17:49:30.996520Z",
     "shell.execute_reply": "2022-12-13T17:49:30.995295Z"
    },
    "papermill": {
     "duration": 13.276685,
     "end_time": "2022-12-13T17:49:30.998728",
     "exception": false,
     "start_time": "2022-12-13T17:49:17.722043",
     "status": "completed"
    },
    "tags": []
   },
   "outputs": [
    {
     "name": "stderr",
     "output_type": "stream",
     "text": [
      "/opt/conda/lib/python3.7/site-packages/ipykernel_launcher.py:9: DeprecationWarning: `np.float` is a deprecated alias for the builtin `float`. To silence this warning, use `float` by itself. Doing this will not modify any behavior and is safe. If you specifically wanted the numpy scalar type, use `np.float64` here.\n",
      "Deprecated in NumPy 1.20; for more details and guidance: https://numpy.org/devdocs/release/1.20.0-notes.html#deprecations\n",
      "  if __name__ == \"__main__\":\n"
     ]
    },
    {
     "data": {
      "text/plain": [
       "<matplotlib.image.AxesImage at 0x7fe48ce57290>"
      ]
     },
     "execution_count": 9,
     "metadata": {},
     "output_type": "execute_result"
    },
    {
     "data": {
      "text/plain": [
       "Text(0.5, 1.0, 'train picture1')"
      ]
     },
     "execution_count": 9,
     "metadata": {},
     "output_type": "execute_result"
    },
    {
     "data": {
      "image/png": "[encoded data removed]",
      "text/plain": [
       "<Figure size 432x288 with 1 Axes>"
      ]
     },
     "metadata": {
      "needs_background": "light"
     },
     "output_type": "display_data"
    },
    {
     "name": "stdout",
     "output_type": "stream",
     "text": [
      "weight matrix is prepared!!!!!\n"
     ]
    }
   ],
   "source": [
    "#import training picture\n",
    "size_global =(80,80)\n",
    "threshold_global = 60\n",
    "\n",
    "trainPath = \"/kaggle/input/hopfieldtrain/train.jpg\"\n",
    "flag = 1\n",
    "\n",
    "matrixTrain = readImage(trainPath,size = size_global,threshold=threshold_global)\n",
    "vectorTrain = matrixToVector(matrixTrain)\n",
    "plt.imshow(arrayToImage(matrixTrain))\n",
    "plt.title(\"train picture\"+str(flag))\n",
    "plt.show()\n",
    "\n",
    "w_ = createWeights(vectorTrain)\n",
    "w_ = w_/flag\n",
    "print(\"weight matrix is prepared!!!!!\")"
   ]
  },
  {
   "cell_type": "code",
   "execution_count": 10,
   "id": "4475e1a4",
   "metadata": {
    "execution": {
     "iopub.execute_input": "2022-12-13T17:49:31.008557Z",
     "iopub.status.busy": "2022-12-13T17:49:31.008130Z",
     "iopub.status.idle": "2022-12-13T17:49:31.131830Z",
     "shell.execute_reply": "2022-12-13T17:49:31.130743Z"
    },
    "papermill": {
     "duration": 0.131635,
     "end_time": "2022-12-13T17:49:31.134764",
     "exception": false,
     "start_time": "2022-12-13T17:49:31.003129",
     "status": "completed"
    },
    "tags": []
   },
   "outputs": [
    {
     "name": "stderr",
     "output_type": "stream",
     "text": [
      "/opt/conda/lib/python3.7/site-packages/ipykernel_launcher.py:9: DeprecationWarning: `np.float` is a deprecated alias for the builtin `float`. To silence this warning, use `float` by itself. Doing this will not modify any behavior and is safe. If you specifically wanted the numpy scalar type, use `np.float64` here.\n",
      "Deprecated in NumPy 1.20; for more details and guidance: https://numpy.org/devdocs/release/1.20.0-notes.html#deprecations\n",
      "  if __name__ == \"__main__\":\n"
     ]
    },
    {
     "data": {
      "text/plain": [
       "<AxesSubplot:>"
      ]
     },
     "execution_count": 10,
     "metadata": {},
     "output_type": "execute_result"
    },
    {
     "data": {
      "text/plain": [
       "<matplotlib.image.AxesImage at 0x7fe48cd78710>"
      ]
     },
     "execution_count": 10,
     "metadata": {},
     "output_type": "execute_result"
    },
    {
     "data": {
      "text/plain": [
       "Text(0.5, 1.0, 'test picture1')"
      ]
     },
     "execution_count": 10,
     "metadata": {},
     "output_type": "execute_result"
    },
    {
     "data": {
      "image/png": "[encoded data removed]",
      "text/plain": [
       "<Figure size 432x288 with 1 Axes>"
      ]
     },
     "metadata": {
      "needs_background": "light"
     },
     "output_type": "display_data"
    }
   ],
   "source": [
    "# import test data\n",
    "testPath = \"/kaggle/input/hopfieldtest/test.jpg\"\n",
    "num = 1\n",
    "\n",
    "#num = num+1\n",
    "matrixTest = readImage(testPath,size = size_global,threshold=threshold_global)\n",
    "vectorTest = matrixToVector(matrixTest)\n",
    "plt.subplot(221)\n",
    "plt.imshow(arrayToImage(matrixTest))\n",
    "plt.title(\"test picture\"+str(num))"
   ]
  },
  {
   "cell_type": "code",
   "execution_count": 11,
   "id": "3c1afb76",
   "metadata": {
    "execution": {
     "iopub.execute_input": "2022-12-13T17:49:31.147699Z",
     "iopub.status.busy": "2022-12-13T17:49:31.147301Z",
     "iopub.status.idle": "2022-12-13T17:50:38.758913Z",
     "shell.execute_reply": "2022-12-13T17:50:38.757937Z"
    },
    "papermill": {
     "duration": 67.620694,
     "end_time": "2022-12-13T17:50:38.761155",
     "exception": false,
     "start_time": "2022-12-13T17:49:31.140461",
     "status": "completed"
    },
    "tags": []
   },
   "outputs": [
    {
     "data": {
      "text/plain": [
       "<AxesSubplot:>"
      ]
     },
     "execution_count": 11,
     "metadata": {},
     "output_type": "execute_result"
    },
    {
     "data": {
      "text/plain": [
       "<matplotlib.image.AxesImage at 0x7fe48cdbe790>"
      ]
     },
     "execution_count": 11,
     "metadata": {},
     "output_type": "execute_result"
    },
    {
     "data": {
      "text/plain": [
       "Text(0.5, 1.0, 'recall1')"
      ]
     },
     "execution_count": 11,
     "metadata": {},
     "output_type": "execute_result"
    },
    {
     "data": {
      "text/plain": [
       "<AxesSubplot:>"
      ]
     },
     "execution_count": 11,
     "metadata": {},
     "output_type": "execute_result"
    },
    {
     "data": {
      "text/plain": [
       "[<matplotlib.lines.Line2D at 0x7fe478f8ea90>]"
      ]
     },
     "execution_count": 11,
     "metadata": {},
     "output_type": "execute_result"
    },
    {
     "data": {
      "text/plain": [
       "Text(0, 0.5, 'energy')"
      ]
     },
     "execution_count": 11,
     "metadata": {},
     "output_type": "execute_result"
    },
    {
     "data": {
      "text/plain": [
       "Text(0.5, 0, 'update times')"
      ]
     },
     "execution_count": 11,
     "metadata": {},
     "output_type": "execute_result"
    },
    {
     "data": {
      "image/png": "[encoded data removed]",
      "text/plain": [
       "<Figure size 432x288 with 2 Axes>"
      ]
     },
     "metadata": {
      "needs_background": "light"
     },
     "output_type": "display_data"
    }
   ],
   "source": [
    "#result\n",
    "#print(matrixTest)\n",
    "oshape = matrixTest.shape\n",
    "aa = updateAsynch(weight=w_,vector=vectorTest,theta = 0.5 ,times=8000)\n",
    "vectorTestUpdate = aa[0]\n",
    "matrixTestUpdate = vectorTestUpdate.reshape(oshape)\n",
    "#matrixTestUpdate.shape\n",
    "#print(matrixTestUpdate)\n",
    "plt.subplot(222)\n",
    "plt.imshow(arrayToImage(matrixTestUpdate))\n",
    "plt.title(\"recall\"+str(num))\n",
    "\n",
    "#plt.show()\n",
    "plt.subplot(212)\n",
    "plt.plot(aa[1],aa[2])\n",
    "plt.ylabel(\"energy\")\n",
    "plt.xlabel(\"update times\")\n",
    "    \n",
    "plt.show()\n"
   ]
  }
 ],
 "metadata": {
  "kernelspec": {
   "display_name": "Python 3",
   "language": "python",
   "name": "python3"
  },
  "language_info": {
   "codemirror_mode": {
    "name": "ipython",
    "version": 3
   },
   "file_extension": ".py",
   "mimetype": "text/x-python",
   "name": "python",
   "nbconvert_exporter": "python",
   "pygments_lexer": "ipython3",
   "version": "3.7.12"
  },
  "papermill": {
   "default_parameters": {},
   "duration": 88.939684,
   "end_time": "2022-12-13T17:50:39.386820",
   "environment_variables": {},
   "exception": null,
   "input_path": "__notebook__.ipynb",
   "output_path": "__notebook__.ipynb",
   "parameters": {},
   "start_time": "2022-12-13T17:49:10.447136",
   "version": "2.3.4"
  }
 },
 "nbformat": 4,
 "nbformat_minor": 5
}
